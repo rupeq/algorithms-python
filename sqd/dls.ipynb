{
 "cells": [
  {
   "cell_type": "code",
   "execution_count": 5,
   "metadata": {},
   "outputs": [],
   "source": [
    "class Node:\n",
    "    def __init__(self, data):\n",
    "        self.data = data\n",
    "        self.next = None\n",
    "        self.prev = None\n",
    "        \n",
    "class DLS:\n",
    "    def __init__(self):\n",
    "        self.head = None\n",
    "    \n",
    "    # adding element\n",
    "    def Push(self, value):\n",
    "        newNode = Node(value)\n",
    "        newNode.next = self.head\n",
    "        if self.head is not None:\n",
    "            self.head.prev = newNode\n",
    "        self.head = newNode\n",
    "    \n",
    "    # optional pos\n",
    "    def Insert(self, prev_node, value):\n",
    "        if prev_node is None:\n",
    "            return\n",
    "        newNode = Node(value)\n",
    "        newNode.next = prev_node.next\n",
    "        prev_node.next = newNode\n",
    "        newNode.prev = prev_node\n",
    "        if newNode.next is not None:\n",
    "            newNode.next.prev = newNode\n",
    "            \n",
    "    def Append(self, value):\n",
    "        newNode = Node(value)\n",
    "        newNode.next = None\n",
    "        if self.head is None:\n",
    "            newNode.prev = None\n",
    "            self.head = newNode\n",
    "            return\n",
    "        last = self.head\n",
    "        while (last.next is not None):\n",
    "            last = last.next\n",
    "        last.next = newNode\n",
    "        newNode.prev = last\n",
    "        return\n",
    "    \n",
    "    # print dls\n",
    "    def Print(self, node):\n",
    "        while node is not None:\n",
    "            print(node.data)\n",
    "            last = node\n",
    "            node = node.next\n",
    "            "
   ]
  },
  {
   "cell_type": "code",
   "execution_count": 6,
   "metadata": {},
   "outputs": [
    {
     "name": "stdout",
     "output_type": "stream",
     "text": [
      "612\n",
      "8\n",
      "12\n",
      "9\n",
      "45\n"
     ]
    }
   ],
   "source": [
    "dls = DLS()\n",
    "dls.Push(12)\n",
    "dls.Append(9)\n",
    "dls.Push(8)\n",
    "dls.Push(612)\n",
    "dls.Append(45)\n",
    "dls.Print(dls.head)"
   ]
  }
 ],
 "metadata": {
  "kernelspec": {
   "display_name": "Python 3",
   "language": "python",
   "name": "python3"
  },
  "language_info": {
   "codemirror_mode": {
    "name": "ipython",
    "version": 3
   },
   "file_extension": ".py",
   "mimetype": "text/x-python",
   "name": "python",
   "nbconvert_exporter": "python",
   "pygments_lexer": "ipython3",
   "version": "3.8.2"
  }
 },
 "nbformat": 4,
 "nbformat_minor": 4
}
