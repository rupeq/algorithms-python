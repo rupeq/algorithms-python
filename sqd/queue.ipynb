{
 "cells": [
  {
   "cell_type": "code",
   "execution_count": 17,
   "metadata": {},
   "outputs": [],
   "source": [
    "class Queue:\n",
    "    def __init__(self):\n",
    "        self.queue = list()\n",
    "    \n",
    "    # Insert to add element\n",
    "    def Add(self, value):\n",
    "        if value not in self.queue:\n",
    "            self.queue.insert(0, value)\n",
    "            return 'Elements were added'\n",
    "        return\n",
    "    \n",
    "    def Length(self):\n",
    "        return len(self.queue)\n",
    "    \n",
    "    def Pop(self):\n",
    "        if len(self.queue) > 0:\n",
    "            return self.queue.pop()\n",
    "        return 'Empty queue'\n",
    "    "
   ]
  },
  {
   "cell_type": "code",
   "execution_count": 18,
   "metadata": {},
   "outputs": [],
   "source": [
    "queue = Queue()"
   ]
  },
  {
   "cell_type": "code",
   "execution_count": 19,
   "metadata": {},
   "outputs": [
    {
     "data": {
      "text/plain": [
       "'Elements were added'"
      ]
     },
     "execution_count": 19,
     "metadata": {},
     "output_type": "execute_result"
    }
   ],
   "source": [
    "queue.Add(\"Mon\")\n",
    "queue.Add(\"Tue\")\n",
    "queue.Add(\"Wed\")\n",
    "queue.Add(\"Thu\")\n",
    "queue.Add(\"Fri\")\n",
    "queue.Add(\"Sat\")\n",
    "queue.Add(\"Sun\")"
   ]
  },
  {
   "cell_type": "code",
   "execution_count": 20,
   "metadata": {},
   "outputs": [
    {
     "name": "stdout",
     "output_type": "stream",
     "text": [
      "Mon\n"
     ]
    }
   ],
   "source": [
    "print(queue.Pop())"
   ]
  }
 ],
 "metadata": {
  "kernelspec": {
   "display_name": "Python 3",
   "language": "python",
   "name": "python3"
  },
  "language_info": {
   "codemirror_mode": {
    "name": "ipython",
    "version": 3
   },
   "file_extension": ".py",
   "mimetype": "text/x-python",
   "name": "python",
   "nbconvert_exporter": "python",
   "pygments_lexer": "ipython3",
   "version": "3.8.2"
  }
 },
 "nbformat": 4,
 "nbformat_minor": 4
}
