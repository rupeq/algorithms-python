{
 "cells": [
  {
   "cell_type": "code",
   "execution_count": 210,
   "metadata": {},
   "outputs": [],
   "source": [
    "class Node:\n",
    "    def __init__(self, value=None, next=None):\n",
    "        self.value = value\n",
    "        self.next = next\n",
    "\n",
    "class List:\n",
    "    def __init__(self):\n",
    "        self.first = None\n",
    "        self.last = None\n",
    "        self.length = 0\n",
    "     \n",
    "    # in the top\n",
    "    def Push(self, x):\n",
    "        if self.first == None:\n",
    "            self.first = Node(x, None)\n",
    "            self.last = self.first\n",
    "        else:\n",
    "            self.first = Node(x, self.first)\n",
    "    \n",
    "    # in the end\n",
    "    def add(self, x):\n",
    "        if self.first == None:\n",
    "            self.first = Node(x, None)\n",
    "            self.last = self.first\n",
    "        elif self.last == self.first:\n",
    "            self.last = Node(x, None)\n",
    "            self.first.next = self.last\n",
    "        else:\n",
    "            cursore = Node(x, None)\n",
    "            self.last.next = cursore\n",
    "            self.last = cursore\n",
    "            \n",
    "    def Pop(self):\n",
    "        old = self.first\n",
    "        if old == None:\n",
    "            return 'List is empty' \n",
    "        self.first = old.next\n",
    "        if self.first == None:\n",
    "            self.last = None\n",
    "        return f'First node with value {old.value} has been deleted'\n",
    "    \n",
    "    # optional pos\n",
    "    def Del(self, pos):\n",
    "        if (self.first == None):\n",
    "            return 'Empty list'\n",
    "        old = cursore = self.first\n",
    "        count = 0\n",
    "        if pos == 0:\n",
    "            self.first = self.first.next\n",
    "            return 'Element has been deleted'\n",
    "        while cursore != None:\n",
    "            if count == pos:\n",
    "                if cursore.next == self.last:\n",
    "                    self.last = cursore\n",
    "                    break\n",
    "                else:\n",
    "                    old.next = cursore.next\n",
    "                break\n",
    "            old = cursore\n",
    "            cursore = cursore.next\n",
    "            count += 1\n",
    "    \n",
    "    def Length(self):\n",
    "        self.length = 0\n",
    "        if not self.first:\n",
    "            return 'Empty list'\n",
    "        cursore = self.first\n",
    "        while cursore != None:\n",
    "            cursore = cursore.next\n",
    "            self.length += 1\n",
    "        return f'List length is {self.length}'\n",
    "    \n",
    "    def Print(self):\n",
    "        elements = []\n",
    "        if not self.first:\n",
    "            return 'Empty list'\n",
    "        cursore = self.first\n",
    "        while cursore != None:\n",
    "            elements.append(cursore.value)\n",
    "            cursore = cursore.next\n",
    "        return elements\n",
    "    \n",
    "    def clear(self):\n",
    "        self.__init__()\n",
    "        \n",
    "    def __str__(self):\n",
    "        if self.first != None:\n",
    "            cursore = self.fisrt\n",
    "            out = 'List: ' + str(cursore.value) + '\\n'\n",
    "            while cursore.next != None:\n",
    "                cursore = cursore.bext\n",
    "                out += str(cursore.value) + '\\n'\n",
    "            return out\n",
    "        return 'List []'\n"
   ]
  },
  {
   "cell_type": "code",
   "execution_count": 211,
   "metadata": {},
   "outputs": [],
   "source": [
    "main = List()"
   ]
  },
  {
   "cell_type": "code",
   "execution_count": 212,
   "metadata": {},
   "outputs": [],
   "source": [
    "main.add(5)\n",
    "main.add(6)\n",
    "main.add(7)\n",
    "main.add(8)\n",
    "main.add(11)\n",
    "main.Push(12)\n",
    "\n"
   ]
  },
  {
   "cell_type": "code",
   "execution_count": 213,
   "metadata": {},
   "outputs": [
    {
     "data": {
      "text/plain": [
       "'First node with value 12 has been deleted'"
      ]
     },
     "execution_count": 213,
     "metadata": {},
     "output_type": "execute_result"
    }
   ],
   "source": [
    "main.Pop()"
   ]
  },
  {
   "cell_type": "code",
   "execution_count": 214,
   "metadata": {},
   "outputs": [
    {
     "data": {
      "text/plain": [
       "'List length is 5'"
      ]
     },
     "execution_count": 214,
     "metadata": {},
     "output_type": "execute_result"
    }
   ],
   "source": [
    "main.Length()"
   ]
  },
  {
   "cell_type": "code",
   "execution_count": 215,
   "metadata": {},
   "outputs": [],
   "source": [
    "main.add(15)"
   ]
  },
  {
   "cell_type": "code",
   "execution_count": 216,
   "metadata": {},
   "outputs": [],
   "source": [
    "main.Del(2)"
   ]
  },
  {
   "cell_type": "code",
   "execution_count": 218,
   "metadata": {},
   "outputs": [
    {
     "data": {
      "text/plain": [
       "[5, 6, 8, 11, 15]"
      ]
     },
     "execution_count": 218,
     "metadata": {},
     "output_type": "execute_result"
    }
   ],
   "source": [
    "main.Print()"
   ]
  }
 ],
 "metadata": {
  "kernelspec": {
   "display_name": "Python 3",
   "language": "python",
   "name": "python3"
  },
  "language_info": {
   "codemirror_mode": {
    "name": "ipython",
    "version": 3
   },
   "file_extension": ".py",
   "mimetype": "text/x-python",
   "name": "python",
   "nbconvert_exporter": "python",
   "pygments_lexer": "ipython3",
   "version": "3.8.2"
  }
 },
 "nbformat": 4,
 "nbformat_minor": 4
}
